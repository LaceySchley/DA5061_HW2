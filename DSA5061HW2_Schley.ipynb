{
  "nbformat": 4,
  "nbformat_minor": 0,
  "metadata": {
    "colab": {
      "name": "DSA5061HW2_Schley.ipynb",
      "provenance": [],
      "collapsed_sections": [],
      "authorship_tag": "ABX9TyO5gKS4JTdHyv14Wt+d3Btu",
      "include_colab_link": true
    },
    "kernelspec": {
      "name": "python3",
      "display_name": "Python 3"
    },
    "language_info": {
      "name": "python"
    }
  },
  "cells": [
    {
      "cell_type": "markdown",
      "metadata": {
        "id": "view-in-github",
        "colab_type": "text"
      },
      "source": [
        "<a href=\"https://colab.research.google.com/github/LaceySchley/DA5061_HW2/blob/main/DSA5061HW2_Schley.ipynb\" target=\"_parent\"><img src=\"https://colab.research.google.com/assets/colab-badge.svg\" alt=\"Open In Colab\"/></a>"
      ]
    },
    {
      "cell_type": "code",
      "metadata": {
        "id": "1MwWccZgRbqI"
      },
      "source": [
        "# Homework 2, DSA 5061\n",
        "# Lacey Schley\n",
        "# 112-73-6389\n",
        "# 31 Jul 2021\n",
        "\n",
        "# This file does xyz..."
      ],
      "execution_count": 1,
      "outputs": []
    },
    {
      "cell_type": "code",
      "metadata": {
        "colab": {
          "base_uri": "https://localhost:8080/"
        },
        "id": "eg3iOxCNTOo2",
        "outputId": "d33778ad-8ee5-41d4-de6f-7e8fe26f536f"
      },
      "source": [
        "import pandas as pd\n",
        "\n",
        "import numpy as np\n",
        "from scipy.stats import uniform\n",
        "import statsmodels.api as sm\n",
        "import statsmodels.formula.api as smf\n",
        "import matplotlib.pyplot as plt\n",
        "\n",
        "import seaborn as sns"
      ],
      "execution_count": 2,
      "outputs": [
        {
          "output_type": "stream",
          "text": [
            "/usr/local/lib/python3.7/dist-packages/statsmodels/tools/_testing.py:19: FutureWarning: pandas.util.testing is deprecated. Use the functions in the public API at pandas.testing instead.\n",
            "  import pandas.util.testing as tm\n"
          ],
          "name": "stderr"
        }
      ]
    },
    {
      "cell_type": "code",
      "metadata": {
        "id": "ItHvr3x5TzxA"
      },
      "source": [
        "football = pd.read_csv(\"https://raw.githubusercontent.com/LaceySchley/DA5061_HW2/main/football_dsa5061hw2_su21.csv\", error_bad_lines=False)"
      ],
      "execution_count": 3,
      "outputs": []
    },
    {
      "cell_type": "code",
      "metadata": {
        "colab": {
          "base_uri": "https://localhost:8080/"
        },
        "id": "-I0GEUpyUqWI",
        "outputId": "f8b20c3f-f96e-4187-b7ca-938f4e0ad11a"
      },
      "source": [
        "print(\"\\nContents of football data frame -----------------\")\n",
        "\n",
        "print(pd.DataFrame.head(football))\n",
        "footballDF = pd.DataFrame(football)"
      ],
      "execution_count": 4,
      "outputs": [
        {
          "output_type": "stream",
          "text": [
            "\n",
            "Contents of football data frame -----------------\n",
            "              School      Conf  ...  Score  PointsPerGame\n",
            "0          Air Force  Mt. West  ...   4.09          78.16\n",
            "1              Akron       MAC  ...  -6.52          72.64\n",
            "2            Alabama       SEC  ...  25.62          90.38\n",
            "3  Appalachian State  Sun Belt  ...   8.83          70.76\n",
            "4            Arizona    Pac-12  ...  -4.63          74.42\n",
            "\n",
            "[5 rows x 13 columns]\n"
          ],
          "name": "stdout"
        }
      ]
    },
    {
      "cell_type": "code",
      "metadata": {
        "colab": {
          "base_uri": "https://localhost:8080/"
        },
        "id": "1hspwJm-Xav0",
        "outputId": "381490b0-85b6-4cdb-adc0-848e5bf4320f"
      },
      "source": [
        "AAC = football[football['Conf'] == 'AAC']\n",
        "ACC = football[football['Conf'] == 'ACC']\n",
        "BigTen = football[football['Conf'] == 'Big Ten']\n",
        "Big12 = football[football['Conf'] == 'Big 12']\n",
        "CUSA = football[football['Conf'] == 'C-USA']\n",
        "Ind = football[football['Conf'] == 'Ind.']\n",
        "MAC = football[football['Conf'] == 'MAC']\n",
        "MtWest = football[football['Conf'] == 'Mt. West']\n",
        "Pac12 = football[football['Conf'] == 'Pac-12']\n",
        "SEC = football[football['Conf'] == 'SEC']\n",
        "SunBelt = football[football['Conf'] == 'Sun Belt']\n",
        "\n",
        "OU = football[football['School'] == 'Oklahoma']\n",
        "print(OU)\n",
        "\n",
        "salarydata = [AAC['TotalPay'], ACC['TotalPay'], BigTen['TotalPay'], Big12['TotalPay'], CUSA['TotalPay'], Ind['TotalPay'], MAC['TotalPay'], MtWest['TotalPay'], Pac12['TotalPay'], SEC['TotalPay'], SunBelt['TotalPay']]\n",
        "ordered_conf_names = (sorted(set(football['Conf']),reverse=False))\n",
        "ordered_team_names = (sorted(set(football['School']), reverse=False))"
      ],
      "execution_count": 5,
      "outputs": [
        {
          "output_type": "stream",
          "text": [
            "      School    Conf          Coach  ...  Defense Score  Score  PointsPerGame\n",
            "77  Oklahoma  Big 12  Lincoln Riley  ...           0.34  14.98          92.54\n",
            "\n",
            "[1 rows x 13 columns]\n"
          ],
          "name": "stdout"
        }
      ]
    },
    {
      "cell_type": "code",
      "metadata": {
        "colab": {
          "base_uri": "https://localhost:8080/"
        },
        "id": "vHKOgNkGugOd",
        "outputId": "ea60618e-f4e6-4484-85fb-071ba4e53b70"
      },
      "source": [
        "print(np.mean(football['TotalPay']))"
      ],
      "execution_count": 6,
      "outputs": [
        {
          "output_type": "stream",
          "text": [
            "2557438.0884955754\n"
          ],
          "name": "stdout"
        }
      ]
    },
    {
      "cell_type": "code",
      "metadata": {
        "colab": {
          "base_uri": "https://localhost:8080/",
          "height": 365
        },
        "id": "RUqt64Rk3Frm",
        "outputId": "3a5fa1ea-90a6-41ee-a287-07037dd07a16"
      },
      "source": [
        "plt.hist(football['StadSize'], density=False, stacked=False, rwidth=.9)\n",
        "plt.title(\"Stadium Size Histogram\")\n",
        "plt.xlabel('Stadium Size')\n",
        "plt.ylabel('Frequency')\n",
        "plt.show()\n",
        "print(\"OU Stadium Size: \",OU['StadSize'])\n",
        "print(np.mean(football['StadSize']))\n",
        "print(np.std(football['StadSize']))"
      ],
      "execution_count": 7,
      "outputs": [
        {
          "output_type": "display_data",
          "data": {
            "image/png": "[encoded data removed]",
            "text/plain": [
              "<Figure size 432x288 with 1 Axes>"
            ]
          },
          "metadata": {
            "tags": [],
            "needs_background": "light"
          }
        },
        {
          "output_type": "stream",
          "text": [
            "OU Stadium Size:  77    82112\n",
            "Name: StadSize, dtype: int64\n",
            "53059.22881355932\n",
            "23598.80054600988\n"
          ],
          "name": "stdout"
        }
      ]
    },
    {
      "cell_type": "code",
      "metadata": {
        "colab": {
          "base_uri": "https://localhost:8080/",
          "height": 365
        },
        "id": "wb-Y5Ps24IBt",
        "outputId": "172083c1-b6a8-40d4-a59f-6c1e60c2e32f"
      },
      "source": [
        "plt.hist(football['Graduation Rate (GSR)'], density=False, stacked=False, rwidth=.9)\n",
        "plt.title(\"Graduation Rate Histogram\")\n",
        "plt.xlabel('Graduation Rate (GSR)')\n",
        "plt.ylabel('Frequency')\n",
        "plt.show()\n",
        "print(\"OU Graduation Rate: \", OU['Graduation Rate (GSR)'])\n",
        "print(np.mean(football['Graduation Rate (GSR)']))\n",
        "print(np.std(football['Graduation Rate (GSR)']))"
      ],
      "execution_count": 8,
      "outputs": [
        {
          "output_type": "display_data",
          "data": {
            "image/png": "[encoded data removed]",
            "text/plain": [
              "<Figure size 432x288 with 1 Axes>"
            ]
          },
          "metadata": {
            "tags": [],
            "needs_background": "light"
          }
        },
        {
          "output_type": "stream",
          "text": [
            "OU Graduation Rate:  77    74\n",
            "Name: Graduation Rate (GSR), dtype: int64\n",
            "74.64406779661017\n",
            "14.185529403937661\n"
          ],
          "name": "stdout"
        }
      ]
    },
    {
      "cell_type": "code",
      "metadata": {
        "colab": {
          "base_uri": "https://localhost:8080/",
          "height": 278
        },
        "id": "yT-9ALCL4HVA",
        "outputId": "c788bcf7-c38c-4beb-e528-bcdbd357553a"
      },
      "source": [
        "sns.boxplot(x=\"Conf\", y=\"StadSize\", data=football, color = \"gray\");\n",
        "plt.show()"
      ],
      "execution_count": 9,
      "outputs": [
        {
          "output_type": "display_data",
          "data": {
            "image/png": "[encoded data removed]",
            "text/plain": [
              "<Figure size 432x288 with 1 Axes>"
            ]
          },
          "metadata": {
            "tags": [],
            "needs_background": "light"
          }
        }
      ]
    },
    {
      "cell_type": "code",
      "metadata": {
        "colab": {
          "base_uri": "https://localhost:8080/",
          "height": 368
        },
        "id": "kb64HG6OAl01",
        "outputId": "8dc05496-05b6-4435-f134-1b45fee6f729"
      },
      "source": [
        "corr = football.corr()\n",
        "\n",
        "mask = np.zeros_like(corr, dtype=np.bool)\n",
        "mask[np.triu_indices_from(mask)] = True\n",
        "\n",
        "# Generate a custom diverging colormap\n",
        "cmap = sns.diverging_palette(200, 0, as_cmap=True)\n",
        "\n",
        "# Draw the heatmap with the mask and correct aspect ratio\n",
        "sns.heatmap(corr, mask=mask, cmap=cmap, vmax=.3, center=0,\n",
        "            square=True, linewidths=.5, cbar_kws={\"shrink\": .5})\n",
        "plt.show()"
      ],
      "execution_count": 40,
      "outputs": [
        {
          "output_type": "display_data",
          "data": {
            "image/png": "[encoded data removed]",
            "text/plain": [
              "<Figure size 432x288 with 2 Axes>"
            ]
          },
          "metadata": {
            "tags": [],
            "needs_background": "light"
          }
        }
      ]
    },
    {
      "cell_type": "code",
      "metadata": {
        "id": "tAAfrLrjI57L"
      },
      "source": [
        "sns.stripplot(x=\"StadSize\", y=\"TotalPay\", data=football)\n",
        "plt.show()\n",
        "\n",
        "sns.stripplot(x=\"Score\", y=\"TotalPay\", data=football)\n",
        "plt.show()\n",
        "\n",
        "sns.stripplot(x=\"W\", y=\"TotalPay\", data=football)\n",
        "plt.show()"
      ],
      "execution_count": null,
      "outputs": []
    },
    {
      "cell_type": "markdown",
      "metadata": {
        "id": "9V9iC08wEGW4"
      },
      "source": [
        "Looks like Stadium Size and Score both impact the overall coach salary. "
      ]
    },
    {
      "cell_type": "code",
      "metadata": {
        "id": "q5KX8D3oKkwr"
      },
      "source": [
        "my_model_simple = str('TotalPay ~ Conf')\n",
        "train_model_fit = smf.ols(my_model_simple, data = football).fit()\n",
        "print(train_model_fit.summary())\n",
        "\n",
        "np.random.seed(1234)\n",
        "football['runiform'] = uniform.rvs(loc = 0, scale = 1, size = len(football))\n",
        "football_train = football[football['runiform'] >= 0.33]\n",
        "football_test = football[football['runiform'] < 0.33]\n",
        "# check training data frame\n",
        "print('\\nfootball_train data frame (rows, columns): ',football_train.shape)\n",
        "print(football_train.head())\n",
        "# check test data frame\n",
        "print('\\nfootball_test data frame (rows, columns): ',football_test.shape)\n",
        "print(football_test.head())"
      ],
      "execution_count": null,
      "outputs": []
    },
    {
      "cell_type": "code",
      "metadata": {
        "id": "E4oitZpap-Q-"
      },
      "source": [
        "my_model_simple = str('TotalPay ~ Conf')\n",
        "train_model_fit = smf.ols(my_model_simple, data = football_train).fit()\n",
        "print(train_model_fit.summary())"
      ],
      "execution_count": null,
      "outputs": []
    },
    {
      "cell_type": "code",
      "metadata": {
        "colab": {
          "base_uri": "https://localhost:8080/"
        },
        "id": "WEaUqEkcozBa",
        "outputId": "e2abdc1e-6413-47e8-bb24-2f3c136e24fa"
      },
      "source": [
        "my_model = str('TotalPay ~ Conf + StadSize + Ratio')\n",
        "\n",
        "# fit the model to the training set\n",
        "train_model_fit = smf.ols(my_model, data = football_train).fit()\n",
        "# summary of model fit to the training set\n",
        "print(train_model_fit.summary())\n",
        "# training set predictions from the model fit to the training set\n",
        "football_train['predict_TotalPay'] = train_model_fit.fittedvalues\n",
        "\n",
        "# test set predictions from the model fit to the training set\n",
        "football_test['predict_TotalPay'] = train_model_fit.predict(football_test)"
      ],
      "execution_count": 53,
      "outputs": [
        {
          "output_type": "stream",
          "text": [
            "                            OLS Regression Results                            \n",
            "==============================================================================\n",
            "Dep. Variable:               TotalPay   R-squared:                       0.854\n",
            "Model:                            OLS   Adj. R-squared:                  0.823\n",
            "Method:                 Least Squares   F-statistic:                     28.17\n",
            "Date:                Tue, 03 Aug 2021   Prob (F-statistic):           8.29e-20\n",
            "Time:                        03:52:34   Log-Likelihood:                -1064.4\n",
            "No. Observations:                  71   AIC:                             2155.\n",
            "Df Residuals:                      58   BIC:                             2184.\n",
            "Df Model:                          12                                         \n",
            "Covariance Type:            nonrobust                                         \n",
            "====================================================================================\n",
            "                       coef    std err          t      P>|t|      [0.025      0.975]\n",
            "------------------------------------------------------------------------------------\n",
            "Intercept        -1.921e+05   4.53e+05     -0.424      0.673    -1.1e+06    7.14e+05\n",
            "Conf[T.ACC]       1.134e+06   4.38e+05      2.588      0.012    2.57e+05    2.01e+06\n",
            "Conf[T.Big 12]     1.26e+06   4.89e+05      2.574      0.013     2.8e+05    2.24e+06\n",
            "Conf[T.Big Ten]   1.657e+06   5.53e+05      2.995      0.004     5.5e+05    2.76e+06\n",
            "Conf[T.C-USA]     1.287e+05   7.05e+05      0.183      0.856   -1.28e+06    1.54e+06\n",
            "Conf[T.Ind.]     -1.106e+06   6.96e+05     -1.589      0.118    -2.5e+06    2.87e+05\n",
            "Conf[T.MAC]      -3.006e+05   4.55e+05     -0.661      0.511   -1.21e+06     6.1e+05\n",
            "Conf[T.Mt. West]  -4.51e+05   4.52e+05     -0.998      0.323   -1.36e+06    4.54e+05\n",
            "Conf[T.Pac-12]    1.131e+06   4.71e+05      2.400      0.020    1.88e+05    2.08e+06\n",
            "Conf[T.SEC]       2.091e+06   5.43e+05      3.852      0.000       1e+06    3.18e+06\n",
            "Conf[T.Sun Belt] -4.297e+05   4.83e+05     -0.890      0.377    -1.4e+06    5.37e+05\n",
            "StadSize            35.0504      8.358      4.194      0.000      18.321      51.780\n",
            "Ratio             1.964e+05   5.87e+04      3.346      0.001    7.89e+04    3.14e+05\n",
            "==============================================================================\n",
            "Omnibus:                        5.557   Durbin-Watson:                   1.965\n",
            "Prob(Omnibus):                  0.062   Jarque-Bera (JB):                4.891\n",
            "Skew:                          -0.483   Prob(JB):                       0.0867\n",
            "Kurtosis:                       3.848   Cond. No.                     6.32e+05\n",
            "==============================================================================\n",
            "\n",
            "Warnings:\n",
            "[1] Standard Errors assume that the covariance matrix of the errors is correctly specified.\n",
            "[2] The condition number is large, 6.32e+05. This might indicate that there are\n",
            "strong multicollinearity or other numerical problems.\n"
          ],
          "name": "stdout"
        },
        {
          "output_type": "stream",
          "text": [
            "/usr/local/lib/python3.7/dist-packages/ipykernel_launcher.py:8: SettingWithCopyWarning: \n",
            "A value is trying to be set on a copy of a slice from a DataFrame.\n",
            "Try using .loc[row_indexer,col_indexer] = value instead\n",
            "\n",
            "See the caveats in the documentation: https://pandas.pydata.org/pandas-docs/stable/user_guide/indexing.html#returning-a-view-versus-a-copy\n",
            "  \n",
            "/usr/local/lib/python3.7/dist-packages/ipykernel_launcher.py:11: SettingWithCopyWarning: \n",
            "A value is trying to be set on a copy of a slice from a DataFrame.\n",
            "Try using .loc[row_indexer,col_indexer] = value instead\n",
            "\n",
            "See the caveats in the documentation: https://pandas.pydata.org/pandas-docs/stable/user_guide/indexing.html#returning-a-view-versus-a-copy\n",
            "  # This is added back by InteractiveShellApp.init_path()\n"
          ],
          "name": "stderr"
        }
      ]
    },
    {
      "cell_type": "code",
      "metadata": {
        "colab": {
          "base_uri": "https://localhost:8080/"
        },
        "id": "l9eEvFgX55tm",
        "outputId": "557ed25a-d70e-4632-ed90-6988d66ebe84"
      },
      "source": [
        "print('\\nProportion of Test Set Variance Accounted for: ',\\\n",
        "    round(np.power(football_test['TotalPay'].corr(football_test['TotalPay']),2),3))\n",
        "\n",
        "my_model_fit = smf.ols(my_model, data = football).fit()\n",
        "\n",
        "print('\\nEstimated Effect of Big 12 Conference on Total Pay: ',\\\n",
        "    round(my_model_fit.params[2],0))\n",
        "R_salary = np.mean(football['TotalPay'])+round(my_model_fit.params[2],0)\n",
        "print('\\nGiven that OU is currently a member of the Big 12, recommended coach salary is: ',R_salary)\n",
        "print('\\nEstimated Effect of Big 12 Conference on Total Pay: ',\\\n",
        "    round(my_model_fit.params[9],0))\n",
        "R_salary_SEC = np.mean(football['TotalPay'])+round(my_model_fit.params[9],0)\n",
        "print('\\nIf OU moves to the SEC, recommended coach salary is: ',R_salary_SEC)"
      ],
      "execution_count": 16,
      "outputs": [
        {
          "output_type": "stream",
          "text": [
            "\n",
            "Proportion of Test Set Variance Accounted for:  1.0\n",
            "\n",
            "Estimated Effect of Big 12 Conference on Total Pay:  1692223.0\n",
            "\n",
            "Given that OU is currently a member of the Big 12, recommended coach salary is:  4249661.088495575\n",
            "\n",
            "Estimated Effect of Big 12 Conference on Total Pay:  1900160.0\n",
            "\n",
            "If OU moves to the SEC, recommended coach salary is:  4457598.088495575\n"
          ],
          "name": "stdout"
        }
      ]
    },
    {
      "cell_type": "markdown",
      "metadata": {
        "id": "mo48ZfhW-W4N"
      },
      "source": [
        "These recommended salary amounts are figured without excluding any school data. In this analysis, the conference that a school belongs to is the single biggest contributor to overall salary size."
      ]
    },
    {
      "cell_type": "code",
      "metadata": {
        "colab": {
          "base_uri": "https://localhost:8080/",
          "height": 546
        },
        "id": "al6pc33F_7gn",
        "outputId": "1e46e544-637c-42ba-cfe9-4c052dcce171"
      },
      "source": [
        "# Lets filter the data to the biggest 5 conferences and see what the salary recommendations are.\n",
        "options = [\"ACC\",\"Big Ten\", \"Big 12\",\"Pac-12\", \"SEC\"]\n",
        "football_new = football[football['Conf'].isin(options)]\n",
        "print(football_new)\n",
        "\n",
        "sns.boxplot(x=\"Conf\", y=\"StadSize\", data=football_new, color = \"gray\");\n",
        "plt.show()\n",
        "\n",
        "print"
      ],
      "execution_count": 24,
      "outputs": [
        {
          "output_type": "stream",
          "text": [
            "               School     Conf           Coach  ...  Score  PointsPerGame  runiform\n",
            "2             Alabama      SEC      Nick Saban  ...  25.62          90.38  0.437728\n",
            "4             Arizona   Pac-12    Kevin Sumlin  ...  -4.63          74.42  0.779976\n",
            "5       Arizona State   Pac-12    Herm Edwards  ...  -2.60          79.22  0.272593\n",
            "6            Arkansas      SEC     Chad Morris  ...   4.35          80.66  0.276464\n",
            "9              Auburn      SEC     Gus Malzahn  ...  11.97          81.80  0.875933\n",
            "..                ...      ...             ...  ...    ...            ...       ...\n",
            "111       Wake Forest      ACC    Dave Clawson  ...   0.73          69.97  0.193619\n",
            "112        Washington   Pac-12  Chris Petersen  ...  19.98          88.28  0.457812\n",
            "113  Washington State   Pac-12      Mike Leach  ...   9.03          84.22  0.920403\n",
            "114     West Virginia   Big 12  Dana Holgorsen  ...   9.57          78.75  0.879069\n",
            "116         Wisconsin  Big Ten     Paul Chryst  ...  15.30          78.74  0.348009\n",
            "\n",
            "[64 rows x 14 columns]\n"
          ],
          "name": "stdout"
        },
        {
          "output_type": "display_data",
          "data": {
            "image/png": "[encoded data removed]",
            "text/plain": [
              "<Figure size 432x288 with 1 Axes>"
            ]
          },
          "metadata": {
            "tags": [],
            "needs_background": "light"
          }
        },
        {
          "output_type": "execute_result",
          "data": {
            "text/plain": [
              "<function print>"
            ]
          },
          "metadata": {
            "tags": []
          },
          "execution_count": 24
        }
      ]
    },
    {
      "cell_type": "code",
      "metadata": {
        "colab": {
          "base_uri": "https://localhost:8080/",
          "height": 368
        },
        "id": "r8tleO1xD-T8",
        "outputId": "113c713c-ddf9-4c9c-9533-0fed2ead9695"
      },
      "source": [
        "corr2 = football_new.corr()\n",
        "\n",
        "mask = np.zeros_like(corr2, dtype=np.bool)\n",
        "mask[np.triu_indices_from(mask)] = True\n",
        "\n",
        "# Generate a custom diverging colormap\n",
        "cmap = sns.diverging_palette(200, 0, as_cmap=True)\n",
        "\n",
        "# Draw the heatmap with the mask and correct aspect ratio\n",
        "sns.heatmap(corr2, mask=mask, cmap=cmap, vmax=.3, center=0,\n",
        "            square=True, linewidths=.5, cbar_kws={\"shrink\": .5})\n",
        "plt.show()"
      ],
      "execution_count": 39,
      "outputs": [
        {
          "output_type": "display_data",
          "data": {
            "image/png": "[encoded data removed]",
            "text/plain": [
              "<Figure size 432x288 with 2 Axes>"
            ]
          },
          "metadata": {
            "tags": [],
            "needs_background": "light"
          }
        }
      ]
    },
    {
      "cell_type": "code",
      "metadata": {
        "id": "CaKy2aOoEhce"
      },
      "source": [
        "my_model_simple = str('TotalPay ~ StadSize')\n",
        "train_model_fit = smf.ols(my_model_simple, data = football_new).fit()\n",
        "print(train_model_fit.summary())\n",
        "\n",
        "np.random.seed(1234)\n",
        "football_new['runiform'] = uniform.rvs(loc = 0, scale = 1, size = len(football_new))\n",
        "football_new_train = football_new[football_new['runiform'] >= 0.33]\n",
        "football_new_test = football_new[football_new['runiform'] < 0.33]\n",
        "# check training data frame\n",
        "print('\\nfootball_new_train data frame (rows, columns): ',football_new_train.shape)\n",
        "print(football_new_train.head())\n",
        "# check test data frame\n",
        "print('\\nfootball_new_test data frame (rows, columns): ',football_new_test.shape)\n",
        "print(football_new_test.head())"
      ],
      "execution_count": null,
      "outputs": []
    },
    {
      "cell_type": "markdown",
      "metadata": {
        "id": "Xl1oqYQvFDNE"
      },
      "source": [
        "Stadium Size appears to be a large contributing factor to total pay. "
      ]
    },
    {
      "cell_type": "code",
      "metadata": {
        "colab": {
          "base_uri": "https://localhost:8080/"
        },
        "id": "th1KmoNHFKpU",
        "outputId": "37c78f78-b0c8-4127-9324-9b53634b226d"
      },
      "source": [
        "my_model_simple = str('TotalPay ~ StadSize')\n",
        "train_model_fit = smf.ols(my_model_simple, data = football_new_train).fit()\n",
        "print(train_model_fit.summary())"
      ],
      "execution_count": 42,
      "outputs": [
        {
          "output_type": "stream",
          "text": [
            "                            OLS Regression Results                            \n",
            "==============================================================================\n",
            "Dep. Variable:               TotalPay   R-squared:                       0.441\n",
            "Model:                            OLS   Adj. R-squared:                  0.429\n",
            "Method:                 Least Squares   F-statistic:                     34.76\n",
            "Date:                Tue, 03 Aug 2021   Prob (F-statistic):           4.79e-07\n",
            "Time:                        03:44:18   Log-Likelihood:                -706.29\n",
            "No. Observations:                  46   AIC:                             1417.\n",
            "Df Residuals:                      44   BIC:                             1420.\n",
            "Df Model:                           1                                         \n",
            "Covariance Type:            nonrobust                                         \n",
            "==============================================================================\n",
            "                 coef    std err          t      P>|t|      [0.025      0.975]\n",
            "------------------------------------------------------------------------------\n",
            "Intercept   3.101e+05   6.17e+05      0.503      0.618   -9.33e+05    1.55e+06\n",
            "StadSize      54.1062      9.177      5.896      0.000      35.612      72.600\n",
            "==============================================================================\n",
            "Omnibus:                        1.501   Durbin-Watson:                   2.195\n",
            "Prob(Omnibus):                  0.472   Jarque-Bera (JB):                1.349\n",
            "Skew:                          -0.276   Prob(JB):                        0.509\n",
            "Kurtosis:                       2.368   Cond. No.                     2.44e+05\n",
            "==============================================================================\n",
            "\n",
            "Warnings:\n",
            "[1] Standard Errors assume that the covariance matrix of the errors is correctly specified.\n",
            "[2] The condition number is large, 2.44e+05. This might indicate that there are\n",
            "strong multicollinearity or other numerical problems.\n"
          ],
          "name": "stdout"
        }
      ]
    },
    {
      "cell_type": "code",
      "metadata": {
        "colab": {
          "base_uri": "https://localhost:8080/"
        },
        "id": "ydZyD3cUFRzX",
        "outputId": "a2196545-06b0-40e4-aad7-7046e3f51efe"
      },
      "source": [
        "my_model = str('TotalPay ~ StadSize + Score + Conf + W')\n",
        "\n",
        "# fit the model to the training set\n",
        "train_model_fit = smf.ols(my_model, data = football_new_train).fit()\n",
        "# summary of model fit to the training set\n",
        "print(train_model_fit.summary())\n",
        "# training set predictions from the model fit to the training set\n",
        "football_new_train['predict_TotalPay'] = train_model_fit.fittedvalues\n",
        "\n",
        "# test set predictions from the model fit to the training set\n",
        "football_new_test['predict_TotalPay'] = train_model_fit.predict(football_new_test)"
      ],
      "execution_count": 57,
      "outputs": [
        {
          "output_type": "stream",
          "text": [
            "                            OLS Regression Results                            \n",
            "==============================================================================\n",
            "Dep. Variable:               TotalPay   R-squared:                       0.612\n",
            "Model:                            OLS   Adj. R-squared:                  0.536\n",
            "Method:                 Least Squares   F-statistic:                     8.101\n",
            "Date:                Tue, 03 Aug 2021   Prob (F-statistic):           6.68e-06\n",
            "Time:                        03:54:16   Log-Likelihood:                -668.41\n",
            "No. Observations:                  44   AIC:                             1353.\n",
            "Df Residuals:                      36   BIC:                             1367.\n",
            "Df Model:                           7                                         \n",
            "Covariance Type:            nonrobust                                         \n",
            "===================================================================================\n",
            "                      coef    std err          t      P>|t|      [0.025      0.975]\n",
            "-----------------------------------------------------------------------------------\n",
            "Intercept       -5.748e+05   1.31e+06     -0.439      0.663   -3.23e+06    2.08e+06\n",
            "Conf[T.Big 12]   2.672e+05   5.51e+05      0.485      0.631    -8.5e+05    1.38e+06\n",
            "Conf[T.Big Ten]   5.34e+05   5.48e+05      0.974      0.336   -5.78e+05    1.65e+06\n",
            "Conf[T.Pac-12]  -4.189e+05   5.32e+05     -0.788      0.436    -1.5e+06     6.6e+05\n",
            "Conf[T.SEC]      2.225e+05   5.39e+05      0.413      0.682   -8.71e+05    1.32e+06\n",
            "StadSize           41.7821     11.042      3.784      0.001      19.387      64.177\n",
            "Score           -7206.0328   6.73e+04     -0.107      0.915   -1.44e+05    1.29e+05\n",
            "W                2.362e+05    1.7e+05      1.391      0.173   -1.08e+05     5.8e+05\n",
            "==============================================================================\n",
            "Omnibus:                        0.935   Durbin-Watson:                   2.263\n",
            "Prob(Omnibus):                  0.627   Jarque-Bera (JB):                0.834\n",
            "Skew:                           0.021   Prob(JB):                        0.659\n",
            "Kurtosis:                       2.327   Cond. No.                     5.71e+05\n",
            "==============================================================================\n",
            "\n",
            "Warnings:\n",
            "[1] Standard Errors assume that the covariance matrix of the errors is correctly specified.\n",
            "[2] The condition number is large, 5.71e+05. This might indicate that there are\n",
            "strong multicollinearity or other numerical problems.\n"
          ],
          "name": "stdout"
        },
        {
          "output_type": "stream",
          "text": [
            "/usr/local/lib/python3.7/dist-packages/ipykernel_launcher.py:8: SettingWithCopyWarning: \n",
            "A value is trying to be set on a copy of a slice from a DataFrame.\n",
            "Try using .loc[row_indexer,col_indexer] = value instead\n",
            "\n",
            "See the caveats in the documentation: https://pandas.pydata.org/pandas-docs/stable/user_guide/indexing.html#returning-a-view-versus-a-copy\n",
            "  \n",
            "/usr/local/lib/python3.7/dist-packages/ipykernel_launcher.py:11: SettingWithCopyWarning: \n",
            "A value is trying to be set on a copy of a slice from a DataFrame.\n",
            "Try using .loc[row_indexer,col_indexer] = value instead\n",
            "\n",
            "See the caveats in the documentation: https://pandas.pydata.org/pandas-docs/stable/user_guide/indexing.html#returning-a-view-versus-a-copy\n",
            "  # This is added back by InteractiveShellApp.init_path()\n"
          ],
          "name": "stderr"
        }
      ]
    },
    {
      "cell_type": "code",
      "metadata": {
        "colab": {
          "base_uri": "https://localhost:8080/"
        },
        "id": "MskVnf9VFUDw",
        "outputId": "c6ba52cc-08c7-4275-8879-b9f21f996cff"
      },
      "source": [
        "print('\\nProportion of Test Set Variance Accounted for: ',\\\n",
        "    round(np.power(football_new_test['TotalPay'].corr(football_new_test['TotalPay']),2),3))\n",
        "\n",
        "my_model_fit = smf.ols(my_model, data = football_new).fit()\n",
        "\n",
        "print('\\nEstimated Effect of stadium size on total pay is ',\\\n",
        "    round(my_model_fit.params[5],0), \" dollars per additional seat\")\n",
        "R_salary = np.mean(football_new['TotalPay'])+(round(my_model_fit.params[5],0)*(82112-np.mean(Big12['StadSize'])))\n",
        "print('\\nGiven that OU is currently a member of the Big 12, recommended coach salary is: ',R_salary)\n",
        "R_salary_SEC = np.mean(football_new['TotalPay'])+(round(my_model_fit.params[5],0)*(82112-np.mean(SEC['StadSize'])))\n",
        "print('\\nIf OU moves to the SEC, recommended coach salary is: ',R_salary_SEC)"
      ],
      "execution_count": 66,
      "outputs": [
        {
          "output_type": "stream",
          "text": [
            "\n",
            "Proportion of Test Set Variance Accounted for:  1.0\n",
            "\n",
            "Estimated Effect of stadium size on total pay is  41.0  dollars per additional seat\n",
            "\n",
            "Given that OU is currently a member of the Big 12, recommended coach salary is:  4700896.3\n",
            "\n",
            "If OU moves to the SEC, recommended coach salary is:  3945845.5714285714\n",
            "80418.07142857143\n"
          ],
          "name": "stdout"
        }
      ]
    },
    {
      "cell_type": "markdown",
      "metadata": {
        "id": "kIK3iSPJNd1B"
      },
      "source": [
        "These recommended salaries are based only on data from the top five football conferences. In theory, this ensures similar program sizes, school reputations, and available budgets for salaries. In this case, the school stadium size is the largest contributing factor to overall coach salary. The SEC conference is larger than the Big 12, so the decrease in coach salary does make intuitive since. Big fish moving to a bigger pond. "
      ]
    }
  ]
}